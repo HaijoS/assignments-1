{
 "cells": [
  {
   "cell_type": "markdown",
   "metadata": {
    "collapsed": true
   },
   "source": [
    "# Assignment for week 6\n",
    "\n",
    "Use the following table to provide us with\n",
    "\n",
    "|name | exam number|\n",
    "|----|----|\n",
    "|Lianne van Krieken| 2002733|\n"
   ]
  },
  {
   "cell_type": "markdown",
   "metadata": {},
   "source": [
    "You need to read the data of salaries.csv\n",
    "Call the dataframe s.\n",
    "If you get the wrong output (all oberservations per row in one column), please look at the \"separator\" in the csv-file and adjust the read command, to that each observations is in one cell.\n"
   ]
  },
  {
   "cell_type": "code",
   "execution_count": 6,
   "metadata": {
    "collapsed": false
   },
   "outputs": [],
   "source": [
    "library(readxl)"
   ]
  },
  {
   "cell_type": "code",
   "execution_count": 7,
   "metadata": {
    "collapsed": false
   },
   "outputs": [
    {
     "ename": "ERROR",
     "evalue": "Error in read_xlsx_(path, sheet, col_names = col_names, col_types = col_types, : Skipped over all data\n",
     "output_type": "error",
     "traceback": [
      "Error in read_xlsx_(path, sheet, col_names = col_names, col_types = col_types, : Skipped over all data\nTraceback:\n",
      "1. read_excel(\"s.xlsx\", 1)",
      "2. read_xlsx(path, sheet, col_names, col_types, na, skip)",
      "3. read_xlsx_(path, sheet, col_names = col_names, col_types = col_types, \n .     na = na, nskip = skip)"
     ]
    }
   ],
   "source": [
    "s <-read_excel( 's.xlsx' , 1 ) "
   ]
  },
  {
   "cell_type": "markdown",
   "metadata": {},
   "source": [
    "Show the data with the command head() "
   ]
  },
  {
   "cell_type": "code",
   "execution_count": 4,
   "metadata": {
    "collapsed": false
   },
   "outputs": [
    {
     "ename": "ERROR",
     "evalue": "Error in head(s): object 's' not found\n",
     "output_type": "error",
     "traceback": [
      "Error in head(s): object 's' not found\nTraceback:\n",
      "1. head(s)"
     ]
    }
   ],
   "source": [
    "head(s)"
   ]
  },
  {
   "cell_type": "markdown",
   "metadata": {},
   "source": [
    "Show the structure of the dataset with the command str()"
   ]
  },
  {
   "cell_type": "code",
   "execution_count": 5,
   "metadata": {
    "collapsed": false
   },
   "outputs": [
    {
     "ename": "ERROR",
     "evalue": "Error in str(s): object 's' not found\n",
     "output_type": "error",
     "traceback": [
      "Error in str(s): object 's' not found\nTraceback:\n",
      "1. str(s)"
     ]
    }
   ],
   "source": [
    "str(total)"
   ]
  },
  {
   "cell_type": "markdown",
   "metadata": {},
   "source": [
    "Change the variable \"salary\" into a numeric variable, with the command as.numeric"
   ]
  },
  {
   "cell_type": "code",
   "execution_count": 8,
   "metadata": {
    "collapsed": false
   },
   "outputs": [
    {
     "ename": "ERROR",
     "evalue": "Error in parse(text = x, srcfile = src): <text>:1:17: unexpected ','\n1: as.numeric <- (s,\n                    ^\n",
     "output_type": "error",
     "traceback": [
      "Error in parse(text = x, srcfile = src): <text>:1:17: unexpected ','\n1: as.numeric <- (s,\n                    ^\nTraceback:\n"
     ]
    }
   ],
   "source": [
    "as.numeric <- (s, 'salary')"
   ]
  },
  {
   "cell_type": "markdown",
   "metadata": {},
   "source": [
    "Show the new structure of the dataset with the command str()"
   ]
  },
  {
   "cell_type": "code",
   "execution_count": 9,
   "metadata": {
    "collapsed": false
   },
   "outputs": [
    {
     "ename": "ERROR",
     "evalue": "Error in str(total): object 'total' not found\n",
     "output_type": "error",
     "traceback": [
      "Error in str(total): object 'total' not found\nTraceback:\n",
      "1. str(total)"
     ]
    }
   ],
   "source": [
    "str(total)"
   ]
  },
  {
   "cell_type": "code",
   "execution_count": null,
   "metadata": {
    "collapsed": true
   },
   "outputs": [],
   "source": []
  }
 ],
 "metadata": {
  "anaconda-cloud": {},
  "kernelspec": {
   "display_name": "R",
   "language": "R",
   "name": "ir"
  },
  "language_info": {
   "codemirror_mode": "r",
   "file_extension": ".r",
   "mimetype": "text/x-r-source",
   "name": "R",
   "pygments_lexer": "r",
   "version": "3.3.2"
  }
 },
 "nbformat": 4,
 "nbformat_minor": 1
}
